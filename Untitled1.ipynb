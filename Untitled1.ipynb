{
 "cells": [
  {
   "cell_type": "code",
   "execution_count": 1,
   "id": "9cf8b701-f801-41a7-89ec-fe741726668e",
   "metadata": {},
   "outputs": [
    {
     "name": "stdout",
     "output_type": "stream",
     "text": [
      "Requirement already satisfied: numpy in c:\\users\\user\\anaconda3\\lib\\site-packages (1.26.4)\n",
      "Note: you may need to restart the kernel to use updated packages.\n"
     ]
    }
   ],
   "source": [
    "pip install numpy"
   ]
  },
  {
   "cell_type": "code",
   "execution_count": 2,
   "id": "4ce3e0d1-2fab-4375-846c-8e81e16f5790",
   "metadata": {},
   "outputs": [],
   "source": [
    "import numpy as np"
   ]
  },
  {
   "cell_type": "code",
   "execution_count": 4,
   "id": "5613a832-3cbb-4a54-ab50-1781422ebabd",
   "metadata": {},
   "outputs": [
    {
     "data": {
      "text/plain": [
       "array([0, 1, 2, 3, 4, 5, 6, 7, 8, 9])"
      ]
     },
     "execution_count": 4,
     "metadata": {},
     "output_type": "execute_result"
    }
   ],
   "source": [
    "Num= np.arange(10)\n",
    "Num"
   ]
  },
  {
   "cell_type": "code",
   "execution_count": 7,
   "id": "0e531f9c-ad4d-4119-8cad-5ebb2ac500f1",
   "metadata": {},
   "outputs": [
    {
     "data": {
      "text/plain": [
       "array([0., 0., 0., 0., 0., 0., 0., 0., 0., 0.])"
      ]
     },
     "execution_count": 7,
     "metadata": {},
     "output_type": "execute_result"
    }
   ],
   "source": [
    "Num1= np.zeros(10)\n",
    "Num1"
   ]
  },
  {
   "cell_type": "code",
   "execution_count": 8,
   "id": "ece2c195-f149-4a4f-8c40-608612ca6fe5",
   "metadata": {},
   "outputs": [
    {
     "data": {
      "text/plain": [
       "array([0, 1, 2, 3, 4, 5, 6, 7, 8, 9])"
      ]
     },
     "execution_count": 8,
     "metadata": {},
     "output_type": "execute_result"
    }
   ],
   "source": [
    "Num2= np.ones(10)\n",
    "Num"
   ]
  },
  {
   "cell_type": "code",
   "execution_count": 34,
   "id": "485ebd65-0623-457c-8cf9-80eaafbbce1a",
   "metadata": {},
   "outputs": [
    {
     "data": {
      "text/plain": [
       "array([[[0., 0.],\n",
       "        [0., 0.],\n",
       "        [0., 0.],\n",
       "        [0., 0.],\n",
       "        [0., 0.],\n",
       "        [0., 0.]],\n",
       "\n",
       "       [[0., 0.],\n",
       "        [0., 0.],\n",
       "        [0., 0.],\n",
       "        [0., 0.],\n",
       "        [0., 0.],\n",
       "        [0., 0.]],\n",
       "\n",
       "       [[0., 0.],\n",
       "        [0., 0.],\n",
       "        [0., 0.],\n",
       "        [0., 0.],\n",
       "        [0., 0.],\n",
       "        [0., 0.]],\n",
       "\n",
       "       [[0., 0.],\n",
       "        [0., 0.],\n",
       "        [0., 0.],\n",
       "        [0., 0.],\n",
       "        [0., 0.],\n",
       "        [0., 0.]],\n",
       "\n",
       "       [[0., 0.],\n",
       "        [0., 0.],\n",
       "        [0., 0.],\n",
       "        [0., 0.],\n",
       "        [0., 0.],\n",
       "        [0., 0.]]])"
      ]
     },
     "execution_count": 34,
     "metadata": {},
     "output_type": "execute_result"
    }
   ],
   "source": [
    "Num3= np.zeros((5,6,2))\n",
    "Num3"
   ]
  },
  {
   "cell_type": "code",
   "execution_count": 14,
   "id": "f3088172-f9a6-49db-a3b5-657b022a671d",
   "metadata": {},
   "outputs": [
    {
     "data": {
      "text/plain": [
       "array([  0.,  25.,  50.,  75., 100.])"
      ]
     },
     "execution_count": 14,
     "metadata": {},
     "output_type": "execute_result"
    }
   ],
   "source": [
    "Num4= np.linspace(0, 100, 5)\n",
    "Num4"
   ]
  },
  {
   "cell_type": "code",
   "execution_count": 15,
   "id": "0ced7ab0-35ca-4bd1-8f5c-1e0678a6f6f1",
   "metadata": {},
   "outputs": [
    {
     "data": {
      "text/plain": [
       "array([[1., 0., 0., 0., 0.],\n",
       "       [0., 1., 0., 0., 0.],\n",
       "       [0., 0., 1., 0., 0.],\n",
       "       [0., 0., 0., 1., 0.],\n",
       "       [0., 0., 0., 0., 1.]])"
      ]
     },
     "execution_count": 15,
     "metadata": {},
     "output_type": "execute_result"
    }
   ],
   "source": [
    "Eye= np.eye(5)\n",
    "Eye"
   ]
  },
  {
   "cell_type": "code",
   "execution_count": 28,
   "id": "b22b3b79-d409-427b-b655-3d989cdf67b5",
   "metadata": {},
   "outputs": [
    {
     "data": {
      "text/plain": [
       "array([0.25130203, 0.87733543, 0.88070033, 0.10704149, 0.06573752])"
      ]
     },
     "execution_count": 28,
     "metadata": {},
     "output_type": "execute_result"
    }
   ],
   "source": [
    "Matrix_Random= np.random.rand(5)\n",
    "Matrix_Random"
   ]
  },
  {
   "cell_type": "code",
   "execution_count": 29,
   "id": "4be5b2ea-a279-400e-be05-1c047c2b1e51",
   "metadata": {},
   "outputs": [
    {
     "data": {
      "text/plain": [
       "array([ 0.18522797,  0.10868831, -0.21680035,  0.08842895,  1.46660314,\n",
       "        0.97192631, -1.05701246])"
      ]
     },
     "execution_count": 29,
     "metadata": {},
     "output_type": "execute_result"
    }
   ],
   "source": [
    "Matrix_Randomn= np.random.randn(7)\n",
    "Matrix_Randomn"
   ]
  },
  {
   "cell_type": "code",
   "execution_count": 31,
   "id": "dd1e0494-15f4-4d4b-a0af-fea6095ec469",
   "metadata": {},
   "outputs": [
    {
     "data": {
      "text/plain": [
       "array([[ 0.11830047,  0.06184578,  0.49724983],\n",
       "       [-1.35665568, -0.11740196,  0.40237465]])"
      ]
     },
     "execution_count": 31,
     "metadata": {},
     "output_type": "execute_result"
    }
   ],
   "source": [
    "Matrix_Random1= np.random.randn(2,3)\n",
    "Matrix_Random1"
   ]
  },
  {
   "cell_type": "code",
   "execution_count": 37,
   "id": "4eea4fc1-e6cf-41d3-946b-0169e9b1a89b",
   "metadata": {},
   "outputs": [
    {
     "data": {
      "text/plain": [
       "9"
      ]
     },
     "execution_count": 37,
     "metadata": {},
     "output_type": "execute_result"
    }
   ],
   "source": [
    "np.random.randint(10)"
   ]
  },
  {
   "cell_type": "code",
   "execution_count": 38,
   "id": "e22e150d-da4f-4c13-b3ab-ee39c0b04d6b",
   "metadata": {},
   "outputs": [
    {
     "data": {
      "text/plain": [
       "9"
      ]
     },
     "execution_count": 38,
     "metadata": {},
     "output_type": "execute_result"
    }
   ],
   "source": [
    "np.random.randint(2, 10)"
   ]
  },
  {
   "cell_type": "code",
   "execution_count": 39,
   "id": "97ba44e5-1cca-4988-a871-86a256e3c6d7",
   "metadata": {},
   "outputs": [
    {
     "data": {
      "text/plain": [
       "array([9, 6, 6, 4, 7, 8, 2, 6, 6, 7, 4, 9, 7, 8, 3, 5, 6, 2, 8, 9, 7, 7,\n",
       "       6, 8, 5, 9, 7, 3, 7, 4])"
      ]
     },
     "execution_count": 39,
     "metadata": {},
     "output_type": "execute_result"
    }
   ],
   "source": [
    "np.random.randint(2, 10, 30)"
   ]
  },
  {
   "cell_type": "code",
   "execution_count": 40,
   "id": "ff006925-9329-4133-bcc8-796e3e0a9ff4",
   "metadata": {},
   "outputs": [
    {
     "data": {
      "text/plain": [
       "array([0.45993277, 0.84757499, 0.39998578, 0.38792632, 0.54245915,\n",
       "       0.29621911, 0.690115  , 0.35946234, 0.16810311, 0.64522619,\n",
       "       0.25933549, 0.1852988 , 0.81862754, 0.23367728, 0.95919417,\n",
       "       0.97579599, 0.0712836 , 0.09652985, 0.67192835, 0.82220116,\n",
       "       0.42262794, 0.57553545, 0.9796911 , 0.73309987, 0.72770767])"
      ]
     },
     "execution_count": 40,
     "metadata": {},
     "output_type": "execute_result"
    }
   ],
   "source": [
    "array= np.random.rand(25)\n",
    "array"
   ]
  },
  {
   "cell_type": "code",
   "execution_count": 46,
   "id": "5dba8262-4260-4919-8614-20e6f0812680",
   "metadata": {},
   "outputs": [
    {
     "data": {
      "text/plain": [
       "array([[0.45993277, 0.84757499, 0.39998578, 0.38792632, 0.54245915],\n",
       "       [0.29621911, 0.690115  , 0.35946234, 0.16810311, 0.64522619],\n",
       "       [0.25933549, 0.1852988 , 0.81862754, 0.23367728, 0.95919417],\n",
       "       [0.97579599, 0.0712836 , 0.09652985, 0.67192835, 0.82220116],\n",
       "       [0.42262794, 0.57553545, 0.9796911 , 0.73309987, 0.72770767]])"
      ]
     },
     "execution_count": 46,
     "metadata": {},
     "output_type": "execute_result"
    }
   ],
   "source": [
    "array.reshape(5,5)"
   ]
  },
  {
   "cell_type": "code",
   "execution_count": 47,
   "id": "547e0823-7843-4af5-a943-85fec8ba98b3",
   "metadata": {},
   "outputs": [
    {
     "data": {
      "text/plain": [
       "array([26, 39, 14,  9, 23])"
      ]
     },
     "execution_count": 47,
     "metadata": {},
     "output_type": "execute_result"
    }
   ],
   "source": [
    "array1= np.random.randint(2, 50, 5)\n",
    "array1"
   ]
  },
  {
   "cell_type": "code",
   "execution_count": 48,
   "id": "1876384d-fa2a-42ff-a4e6-621de3bf1959",
   "metadata": {},
   "outputs": [
    {
     "data": {
      "text/plain": [
       "1"
      ]
     },
     "execution_count": 48,
     "metadata": {},
     "output_type": "execute_result"
    }
   ],
   "source": [
    "array1.argmax()"
   ]
  },
  {
   "cell_type": "code",
   "execution_count": 49,
   "id": "52a3e0dd-87f5-4a24-81e5-a45f3ff8d712",
   "metadata": {},
   "outputs": [
    {
     "data": {
      "text/plain": [
       "3"
      ]
     },
     "execution_count": 49,
     "metadata": {},
     "output_type": "execute_result"
    }
   ],
   "source": [
    "array1.argmin()"
   ]
  },
  {
   "cell_type": "code",
   "execution_count": 50,
   "id": "454b4138-a1d4-419c-bf72-5bcf22343757",
   "metadata": {},
   "outputs": [
    {
     "data": {
      "text/plain": [
       "9"
      ]
     },
     "execution_count": 50,
     "metadata": {},
     "output_type": "execute_result"
    }
   ],
   "source": [
    "array1.min()"
   ]
  },
  {
   "cell_type": "code",
   "execution_count": 53,
   "id": "e1b59cce-b7b0-43d6-aaef-16aaf338fa3e",
   "metadata": {},
   "outputs": [
    {
     "data": {
      "text/plain": [
       "(5,)"
      ]
     },
     "execution_count": 53,
     "metadata": {},
     "output_type": "execute_result"
    }
   ],
   "source": [
    "array1.shape"
   ]
  },
  {
   "cell_type": "code",
   "execution_count": 57,
   "id": "46f2a2bc-0819-44b4-bf26-c501f09327b2",
   "metadata": {},
   "outputs": [
    {
     "data": {
      "text/plain": [
       "array([[10, 20, 30],\n",
       "       [50, 80, 60]])"
      ]
     },
     "execution_count": 57,
     "metadata": {},
     "output_type": "execute_result"
    }
   ],
   "source": [
    "array2= np.array([[10,20,30],[50,80,60]])\n",
    "array2"
   ]
  },
  {
   "cell_type": "code",
   "execution_count": 60,
   "id": "ed2255e5-f31c-4bbc-8094-b3f9714cae39",
   "metadata": {},
   "outputs": [
    {
     "data": {
      "text/plain": [
       "30"
      ]
     },
     "execution_count": 60,
     "metadata": {},
     "output_type": "execute_result"
    }
   ],
   "source": [
    "array2[0, 2]"
   ]
  },
  {
   "cell_type": "code",
   "execution_count": 63,
   "id": "d85f57c6-7158-4a09-aeac-7b21dba6b0cd",
   "metadata": {},
   "outputs": [
    {
     "data": {
      "text/plain": [
       "array([[10, 20, 30],\n",
       "       [50, 80, 60]])"
      ]
     },
     "execution_count": 63,
     "metadata": {},
     "output_type": "execute_result"
    }
   ],
   "source": [
    "array2[:2]"
   ]
  },
  {
   "cell_type": "code",
   "execution_count": 65,
   "id": "8ff6da4d-4ad0-48ea-a078-89146fe981ce",
   "metadata": {},
   "outputs": [
    {
     "data": {
      "text/plain": [
       "array([[50, 80, 60]])"
      ]
     },
     "execution_count": 65,
     "metadata": {},
     "output_type": "execute_result"
    }
   ],
   "source": [
    "array2[1:]"
   ]
  },
  {
   "cell_type": "code",
   "execution_count": 66,
   "id": "5b7c0317-9ef0-42a7-b328-10410a7cc563",
   "metadata": {},
   "outputs": [
    {
     "data": {
      "text/plain": [
       "array([[10, 20, 30],\n",
       "       [50, 80, 60]])"
      ]
     },
     "execution_count": 66,
     "metadata": {},
     "output_type": "execute_result"
    }
   ],
   "source": [
    "array2[:2][0:]"
   ]
  },
  {
   "cell_type": "code",
   "execution_count": 67,
   "id": "2c19c112-202c-402a-a1ef-68d3af976204",
   "metadata": {},
   "outputs": [
    {
     "data": {
      "text/plain": [
       "array([[50, 80, 60]])"
      ]
     },
     "execution_count": 67,
     "metadata": {},
     "output_type": "execute_result"
    }
   ],
   "source": [
    "array2[1:][:2]"
   ]
  },
  {
   "cell_type": "code",
   "execution_count": null,
   "id": "dafcdc29-6c5d-44b7-813f-37cff5f8e6da",
   "metadata": {},
   "outputs": [],
   "source": []
  }
 ],
 "metadata": {
  "kernelspec": {
   "display_name": "Python 3 (ipykernel)",
   "language": "python",
   "name": "python3"
  },
  "language_info": {
   "codemirror_mode": {
    "name": "ipython",
    "version": 3
   },
   "file_extension": ".py",
   "mimetype": "text/x-python",
   "name": "python",
   "nbconvert_exporter": "python",
   "pygments_lexer": "ipython3",
   "version": "3.11.7"
  }
 },
 "nbformat": 4,
 "nbformat_minor": 5
}
